{
 "cells": [
  {
   "cell_type": "code",
   "execution_count": 5,
   "id": "06d90a75",
   "metadata": {},
   "outputs": [
    {
     "ename": "OSError",
     "evalue": "[Errno 10048] error while attempting to bind on address ('::1', 1025, 0, 0): [winerror 10048] 각 소켓 주소(프로토콜/네트워크 주소/포트)는 하나만 사용할 수 있습니다",
     "output_type": "error",
     "traceback": [
      "\u001b[31m---------------------------------------------------------------------------\u001b[39m",
      "\u001b[31mOSError\u001b[39m                                   Traceback (most recent call last)",
      "\u001b[36mCell\u001b[39m\u001b[36m \u001b[39m\u001b[32mIn[5]\u001b[39m\u001b[32m, line 6\u001b[39m\n\u001b[32m      3\u001b[39m \u001b[38;5;28;01mfrom\u001b[39;00m\u001b[38;5;250m \u001b[39m\u001b[34;01maiosmtpd\u001b[39;00m\u001b[34;01m.\u001b[39;00m\u001b[34;01mhandlers\u001b[39;00m\u001b[38;5;250m \u001b[39m\u001b[38;5;28;01mimport\u001b[39;00m Debugging\n\u001b[32m      5\u001b[39m controller = Controller(Debugging(), hostname=\u001b[33m\"\u001b[39m\u001b[33mlocalhost\u001b[39m\u001b[33m\"\u001b[39m, port=\u001b[32m1025\u001b[39m)\n\u001b[32m----> \u001b[39m\u001b[32m6\u001b[39m \u001b[43mcontroller\u001b[49m\u001b[43m.\u001b[49m\u001b[43mstart\u001b[49m\u001b[43m(\u001b[49m\u001b[43m)\u001b[49m\n\u001b[32m      8\u001b[39m \u001b[38;5;28mprint\u001b[39m(\u001b[33m\"\u001b[39m\u001b[33mSMTP Debug Server running on localhost:1025\u001b[39m\u001b[33m\"\u001b[39m)\n",
      "\u001b[36mFile \u001b[39m\u001b[32mc:\\workspace\\.venv\\Lib\\site-packages\\aiosmtpd\\controller.py:274\u001b[39m, in \u001b[36mBaseThreadedController.start\u001b[39m\u001b[34m(self)\u001b[39m\n\u001b[32m    269\u001b[39m \u001b[38;5;28;01mif\u001b[39;00m \u001b[38;5;129;01mnot\u001b[39;00m ready_event.wait(\u001b[38;5;28mself\u001b[39m.ready_timeout):\n\u001b[32m    270\u001b[39m     \u001b[38;5;66;03m# An exception within self._run will also result in ready_event not set\u001b[39;00m\n\u001b[32m    271\u001b[39m     \u001b[38;5;66;03m# So, we first test for that, before raising TimeoutError\u001b[39;00m\n\u001b[32m    272\u001b[39m     \u001b[38;5;28;01mif\u001b[39;00m \u001b[38;5;28mself\u001b[39m._thread_exception \u001b[38;5;129;01mis\u001b[39;00m \u001b[38;5;129;01mnot\u001b[39;00m \u001b[38;5;28;01mNone\u001b[39;00m:  \u001b[38;5;66;03m# pragma: on-wsl\u001b[39;00m\n\u001b[32m    273\u001b[39m         \u001b[38;5;66;03m# See comment about WSL1.0 in the _run() method\u001b[39;00m\n\u001b[32m--> \u001b[39m\u001b[32m274\u001b[39m         \u001b[38;5;28;01mraise\u001b[39;00m \u001b[38;5;28mself\u001b[39m._thread_exception\n\u001b[32m    275\u001b[39m     \u001b[38;5;28;01melse\u001b[39;00m:\n\u001b[32m    276\u001b[39m         \u001b[38;5;28;01mraise\u001b[39;00m \u001b[38;5;167;01mTimeoutError\u001b[39;00m(\n\u001b[32m    277\u001b[39m             \u001b[33m\"\u001b[39m\u001b[33mSMTP server failed to start within allotted time. \u001b[39m\u001b[33m\"\u001b[39m\n\u001b[32m    278\u001b[39m             \u001b[33m\"\u001b[39m\u001b[33mThis might happen if the system is too busy. \u001b[39m\u001b[33m\"\u001b[39m\n\u001b[32m    279\u001b[39m             \u001b[33m\"\u001b[39m\u001b[33mTry increasing the `ready_timeout` parameter.\u001b[39m\u001b[33m\"\u001b[39m\n\u001b[32m    280\u001b[39m         )\n",
      "\u001b[36mFile \u001b[39m\u001b[32mc:\\workspace\\.venv\\Lib\\site-packages\\aiosmtpd\\controller.py:235\u001b[39m, in \u001b[36mBaseThreadedController._run\u001b[39m\u001b[34m(self, ready_event)\u001b[39m\n\u001b[32m    233\u001b[39m \u001b[38;5;28;01mtry\u001b[39;00m:\n\u001b[32m    234\u001b[39m     \u001b[38;5;28mself\u001b[39m.server_coro = \u001b[38;5;28mself\u001b[39m._create_server()\n\u001b[32m--> \u001b[39m\u001b[32m235\u001b[39m     \u001b[38;5;28mself\u001b[39m.server = \u001b[38;5;28;43mself\u001b[39;49m\u001b[43m.\u001b[49m\u001b[43mloop\u001b[49m\u001b[43m.\u001b[49m\u001b[43mrun_until_complete\u001b[49m\u001b[43m(\u001b[49m\u001b[38;5;28;43mself\u001b[39;49m\u001b[43m.\u001b[49m\u001b[43mserver_coro\u001b[49m\u001b[43m)\u001b[49m\n\u001b[32m    236\u001b[39m \u001b[38;5;28;01mexcept\u001b[39;00m \u001b[38;5;167;01mException\u001b[39;00m \u001b[38;5;28;01mas\u001b[39;00m error:  \u001b[38;5;66;03m# pragma: on-wsl\u001b[39;00m\n\u001b[32m    237\u001b[39m     \u001b[38;5;66;03m# Usually will enter this part only if create_server() cannot bind to the\u001b[39;00m\n\u001b[32m    238\u001b[39m     \u001b[38;5;66;03m# specified host:port.\u001b[39;00m\n\u001b[32m   (...)\u001b[39m\u001b[32m    242\u001b[39m     \u001b[38;5;66;03m# That is why we add \"pragma: on-wsl\" there, so this block will not affect\u001b[39;00m\n\u001b[32m    243\u001b[39m     \u001b[38;5;66;03m# coverage on WSL 1.0.\u001b[39;00m\n\u001b[32m    244\u001b[39m     \u001b[38;5;28mself\u001b[39m._thread_exception = error\n",
      "\u001b[36mFile \u001b[39m\u001b[32m~\\AppData\\Local\\Programs\\Python\\Python312\\Lib\\asyncio\\base_events.py:691\u001b[39m, in \u001b[36mBaseEventLoop.run_until_complete\u001b[39m\u001b[34m(self, future)\u001b[39m\n\u001b[32m    688\u001b[39m \u001b[38;5;28;01mif\u001b[39;00m \u001b[38;5;129;01mnot\u001b[39;00m future.done():\n\u001b[32m    689\u001b[39m     \u001b[38;5;28;01mraise\u001b[39;00m \u001b[38;5;167;01mRuntimeError\u001b[39;00m(\u001b[33m'\u001b[39m\u001b[33mEvent loop stopped before Future completed.\u001b[39m\u001b[33m'\u001b[39m)\n\u001b[32m--> \u001b[39m\u001b[32m691\u001b[39m \u001b[38;5;28;01mreturn\u001b[39;00m \u001b[43mfuture\u001b[49m\u001b[43m.\u001b[49m\u001b[43mresult\u001b[49m\u001b[43m(\u001b[49m\u001b[43m)\u001b[49m\n",
      "\u001b[36mFile \u001b[39m\u001b[32m~\\AppData\\Local\\Programs\\Python\\Python312\\Lib\\asyncio\\base_events.py:1584\u001b[39m, in \u001b[36mBaseEventLoop.create_server\u001b[39m\u001b[34m(self, protocol_factory, host, port, family, flags, sock, backlog, ssl, reuse_address, reuse_port, ssl_handshake_timeout, ssl_shutdown_timeout, start_serving)\u001b[39m\n\u001b[32m   1582\u001b[39m                 logger.warning(msg)\n\u001b[32m   1583\u001b[39m             \u001b[38;5;28;01mcontinue\u001b[39;00m\n\u001b[32m-> \u001b[39m\u001b[32m1584\u001b[39m         \u001b[38;5;28;01mraise\u001b[39;00m \u001b[38;5;167;01mOSError\u001b[39;00m(err.errno, msg) \u001b[38;5;28;01mfrom\u001b[39;00m\u001b[38;5;250m \u001b[39m\u001b[38;5;28;01mNone\u001b[39;00m\n\u001b[32m   1586\u001b[39m \u001b[38;5;28;01mif\u001b[39;00m \u001b[38;5;129;01mnot\u001b[39;00m sockets:\n\u001b[32m   1587\u001b[39m     \u001b[38;5;28;01mraise\u001b[39;00m \u001b[38;5;167;01mOSError\u001b[39;00m(\u001b[33m'\u001b[39m\u001b[33mcould not bind on any address out of \u001b[39m\u001b[38;5;132;01m%r\u001b[39;00m\u001b[33m'\u001b[39m\n\u001b[32m   1588\u001b[39m                   % ([info[\u001b[32m4\u001b[39m] \u001b[38;5;28;01mfor\u001b[39;00m info \u001b[38;5;129;01min\u001b[39;00m infos],))\n",
      "\u001b[31mOSError\u001b[39m: [Errno 10048] error while attempting to bind on address ('::1', 1025, 0, 0): [winerror 10048] 각 소켓 주소(프로토콜/네트워크 주소/포트)는 하나만 사용할 수 있습니다"
     ]
    }
   ],
   "source": [
    "import asyncio\n",
    "from aiosmtpd.controller import Controller\n",
    "from aiosmtpd.handlers import Debugging\n",
    "\n",
    "controller = Controller(Debugging(), hostname=\"localhost\", port=1025)\n",
    "controller.start()\n",
    "\n",
    "print(\"SMTP Debug Server running on localhost:1025\")\n"
   ]
  },
  {
   "cell_type": "code",
   "execution_count": 1,
   "id": "da6df46c",
   "metadata": {},
   "outputs": [
    {
     "name": "stdout",
     "output_type": "stream",
     "text": [
      "메일 전송 성공\n"
     ]
    },
    {
     "name": "stderr",
     "output_type": "stream",
     "text": [
      "send: 'ehlo HMDPW08684.HDShipGroup.HHI.co.kr\\r\\n'\n",
      "reply: b'250-hhiesa01.hhi.co.kr\\r\\n'\n",
      "reply: b'250-8BITMIME\\r\\n'\n",
      "reply: b'250-SIZE 31457280\\r\\n'\n",
      "reply: b'250 STARTTLS\\r\\n'\n",
      "reply: retcode (250); Msg: b'hhiesa01.hhi.co.kr\\n8BITMIME\\nSIZE 31457280\\nSTARTTLS'\n",
      "send: 'mail FROM:<noreply@company.com> size=303\\r\\n'\n",
      "reply: b'250 sender <noreply@company.com> ok\\r\\n'\n",
      "reply: retcode (250); Msg: b'sender <noreply@company.com> ok'\n",
      "send: 'rcpt TO:<youraddress@company.com>\\r\\n'\n",
      "reply: b'250 recipient <youraddress@company.com> ok\\r\\n'\n",
      "reply: retcode (250); Msg: b'recipient <youraddress@company.com> ok'\n",
      "send: 'data\\r\\n'\n",
      "reply: b'354 go ahead\\r\\n'\n",
      "reply: retcode (354); Msg: b'go ahead'\n",
      "data: (354, b'go ahead')\n",
      "send: b'Content-Type: text/plain; charset=\"utf-8\"\\r\\nMIME-Version: 1.0\\r\\nContent-Transfer-Encoding: base64\\r\\nFrom: =?utf-8?b?7J6Q64+ZIOuwnOyGoQ==?= <noreply@company.com>\\r\\nTo: youraddress@company.com\\r\\nSubject: =?utf-8?b?U01UUCDthYzsiqTtirgg66mU7J28?=\\r\\n\\r\\n7JWI64WV7ZWY7IS47JqULiDthYzsiqTtirgg66mU7J287J6F64uI64ukLg==\\r\\n.\\r\\n'\n",
      "reply: b'250 ok:  Message 13008779 accepted\\r\\n'\n",
      "reply: retcode (250); Msg: b'ok:  Message 13008779 accepted'\n",
      "data: (250, b'ok:  Message 13008779 accepted')\n",
      "send: 'QUIT\\r\\n'\n",
      "reply: b'221 hhiesa01.hhi.co.kr\\r\\n'\n",
      "reply: retcode (221); Msg: b'hhiesa01.hhi.co.kr'\n"
     ]
    }
   ],
   "source": [
    "import smtplib\n",
    "from email.mime.text import MIMEText\n",
    "from email.utils import formataddr\n",
    "\n",
    "SMTP_SERVER = \"211.193.193.12\"\n",
    "FROM_ADDR   = \"noreply@company.com\"\n",
    "FROM_NAME   = \"자동 발송\"\n",
    "TO_ADDR     = \"youraddress@company.com\"  # 본인 메일 주소\n",
    "\n",
    "msg = MIMEText(\"안녕하세요. 테스트 메일입니다.\", _charset=\"utf-8\")\n",
    "msg[\"From\"] = formataddr((FROM_NAME, FROM_ADDR))\n",
    "msg[\"To\"] = TO_ADDR\n",
    "msg[\"Subject\"] = \"SMTP 테스트 메일\"\n",
    "\n",
    "try:\n",
    "    with smtplib.SMTP(SMTP_SERVER, 25, timeout=10) as server:\n",
    "        server.set_debuglevel(1)  # SMTP 통신 로그 출력\n",
    "        server.sendmail(FROM_ADDR, [TO_ADDR], msg.as_string())\n",
    "        print(\"메일 전송 성공\")\n",
    "except Exception as e:\n",
    "    print(\"메일 전송 실패:\", e)\n"
   ]
  }
 ],
 "metadata": {
  "kernelspec": {
   "display_name": ".venv",
   "language": "python",
   "name": "python3"
  },
  "language_info": {
   "codemirror_mode": {
    "name": "ipython",
    "version": 3
   },
   "file_extension": ".py",
   "mimetype": "text/x-python",
   "name": "python",
   "nbconvert_exporter": "python",
   "pygments_lexer": "ipython3",
   "version": "3.12.9"
  }
 },
 "nbformat": 4,
 "nbformat_minor": 5
}
